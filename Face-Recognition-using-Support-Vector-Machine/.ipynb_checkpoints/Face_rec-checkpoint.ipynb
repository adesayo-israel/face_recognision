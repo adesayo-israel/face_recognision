{
 "cells": [
  {
   "cell_type": "code",
   "execution_count": 1,
   "id": "2a132fed-faa7-401b-90c1-bf86c1feb762",
   "metadata": {},
   "outputs": [],
   "source": [
    "import face_recognition as fr\n",
    "import cv2\n",
    "import numpy as np\n",
    "import os"
   ]
  },
  {
   "cell_type": "code",
   "execution_count": 2,
   "id": "2b523ce2-4ad0-4f73-a1e8-bd5285596c0b",
   "metadata": {},
   "outputs": [],
   "source": [
    "def load_images_and_encodings(path):\n",
    "    known_names = []\n",
    "    known_name_encodings = []"
   ]
  },
  {
   "cell_type": "code",
   "execution_count": 4,
   "id": "db7f2ac5-8293-4127-8f7d-58470789f97d",
   "metadata": {},
   "outputs": [],
   "source": [
    "def load_images_and_encodings(path):\n",
    "    known_names = []\n",
    "    known_name_encodings = []\n",
    "\n",
    "    images = os.listdir(path)\n",
    "    for image_path in images:\n",
    "        image = fr.load_image_file(os.path.join(path, image_path))\n",
    "        encoding = fr.face_encodings(image)[0]\n",
    "\n",
    "        known_name_encodings.append(encoding)\n",
    "        known_names.append(os.path.splitext(os.path.basename(image_path))[0].capitalize())\n",
    "\n",
    "    return known_names, known_name_encodings\n",
    "\n",
    "# Path to directory with known images\n",
    "known_images_path = \"./train/\"\n",
    "\n",
    "# Load known images and encodings\n",
    "known_names, known_name_encodings = load_images_and_encodings(known_images_path)\n",
    "\n",
    "# Path to test image\n",
    "test_image_path = \"./test/test.jpg\"\n",
    "test_image = cv2.imread(test_image_path)"
   ]
  },
  {
   "cell_type": "code",
   "execution_count": 7,
   "id": "9705af36-cab4-4211-bc61-9eac89af810c",
   "metadata": {},
   "outputs": [],
   "source": [
    "face_locations = fr.face_locations(test_image)\n",
    "face_encodings = fr.face_encodings(test_image, face_locations)\n",
    "\n",
    "# Initialize counters for evaluation\n",
    "TP = 0\n",
    "FP = 0\n",
    "FN = 0\n",
    "total_comparisons = 0\n",
    "\n",
    "# Define ground_truth_label with the actual expected label for the test image\n",
    "ground_truth_label = \"expected_label\"  # Replace with the actual label"
   ]
  },
  {
   "cell_type": "code",
   "execution_count": 10,
   "id": "8d891270-169d-45b0-969b-d120fef0ca3b",
   "metadata": {},
   "outputs": [],
   "source": [
    "for (top, right, bottom, left), face_encoding in zip(face_locations, face_encodings):\n",
    "    matches = fr.compare_faces(known_name_encodings, face_encoding)\n",
    "    name = \"\"\n",
    "\n",
    "    face_distances = fr.face_distance(known_name_encodings, face_encoding)\n",
    "    best_match = np.argmin(face_distances)\n",
    "\n",
    "    if matches[best_match]:\n",
    "        total_comparisons += 1\n",
    "        if known_names[best_match] == ground_truth_label:\n",
    "            TP += 1\n",
    "        else:\n",
    "            FP += 1\n",
    "    else:\n",
    "        FN += 1"
   ]
  },
  {
   "cell_type": "code",
   "execution_count": 14,
   "id": "0f15f74b-9c28-41a0-a5c5-f41129ab443d",
   "metadata": {},
   "outputs": [
    {
     "data": {
      "text/plain": [
       "array([[[ 41,  21,   4],\n",
       "        [ 33,  15,   0],\n",
       "        [ 27,   8,   0],\n",
       "        ...,\n",
       "        [ 47,  33,  37],\n",
       "        [ 59,  44,  48],\n",
       "        [ 60,  45,  49]],\n",
       "\n",
       "       [[ 35,  15,   0],\n",
       "        [ 32,  13,   0],\n",
       "        [ 30,  13,   0],\n",
       "        ...,\n",
       "        [ 50,  36,  40],\n",
       "        [ 61,  46,  50],\n",
       "        [ 62,  47,  51]],\n",
       "\n",
       "       [[ 29,  10,   0],\n",
       "        [ 30,  14,   0],\n",
       "        [ 33,  16,   3],\n",
       "        ...,\n",
       "        [ 47,  33,  37],\n",
       "        [ 57,  42,  46],\n",
       "        [ 57,  42,  46]],\n",
       "\n",
       "       ...,\n",
       "\n",
       "       [[  7,   3,   0],\n",
       "        [ 22,  19,  15],\n",
       "        [  7,   3,   8],\n",
       "        ...,\n",
       "        [145, 118,  92],\n",
       "        [156, 127, 106],\n",
       "        [166, 137, 116]],\n",
       "\n",
       "       [[  7,   3,   0],\n",
       "        [  6,   3,   0],\n",
       "        [  2,   0,   3],\n",
       "        ...,\n",
       "        [144, 117,  91],\n",
       "        [153, 124, 103],\n",
       "        [162, 133, 112]],\n",
       "\n",
       "       [[ 21,  17,  12],\n",
       "        [ 15,  12,   8],\n",
       "        [ 16,  12,  17],\n",
       "        ...,\n",
       "        [148, 121,  95],\n",
       "        [153, 124, 103],\n",
       "        [160, 131, 110]]], dtype=uint8)"
      ]
     },
     "execution_count": 14,
     "metadata": {},
     "output_type": "execute_result"
    }
   ],
   "source": [
    "cv2.rectangle(test_image, (left, top), (right, bottom), (0, 0, 255), 2)\n",
    "cv2.rectangle(test_image, (left, bottom - 15), (right, bottom), (0, 0, 255), cv2.FILLED)\n",
    "font = cv2.FONT_HERSHEY_DUPLEX\n",
    "cv2.putText(test_image, name, (left + 6, bottom - 6), font, 1.0, (255, 255, 255), 1)"
   ]
  },
  {
   "cell_type": "code",
   "execution_count": 15,
   "id": "a4c52dc1-abed-4915-b386-684ac2a5b23f",
   "metadata": {},
   "outputs": [],
   "source": [
    "cv2.imshow(\"Result\", test_image)\n",
    "cv2.imwrite(\"./output.jpg\", test_image)\n",
    "cv2.waitKey(0)\n",
    "cv2.destroyAllWindows()"
   ]
  },
  {
   "cell_type": "code",
   "execution_count": 16,
   "id": "8125609f-f052-4b12-ae07-0d975d225d0f",
   "metadata": {},
   "outputs": [],
   "source": [
    "precision = TP / (TP + FP) if (TP + FP) > 0 else 0\n",
    "recall = TP / (TP + FN) if (TP + FN) > 0 else 0\n",
    "f1_score = 2 * (precision * recall) / (precision + recall) if (precision + recall) > 0 else 0"
   ]
  },
  {
   "cell_type": "code",
   "execution_count": 17,
   "id": "d4003f6c-068c-458f-a9b9-00253eedc4f1",
   "metadata": {},
   "outputs": [],
   "source": [
    "FAR = FP / total_comparisons if total_comparisons > 0 else 0\n",
    "FRR = FN / total_comparisons if total_comparisons > 0 else 0"
   ]
  },
  {
   "cell_type": "code",
   "execution_count": 24,
   "id": "7289c2d6-a40c-45d8-ad77-c14b035c7256",
   "metadata": {},
   "outputs": [
    {
     "name": "stdout",
     "output_type": "stream",
     "text": [
      "Precision: Ellipsis\n",
      "Recall: Ellipsis\n",
      "F1 Score: Ellipsis\n",
      "FAR: Ellipsis\n",
      "FRR: Ellipsis\n"
     ]
    }
   ],
   "source": [
    "print(\"Precision:\", precision)\n",
    "print(\"Recall:\", recall)\n",
    "print(\"F1 Score:\", f1_score)\n",
    "print(\"FAR:\", FAR)\n",
    "print(\"FRR:\", FRR)"
   ]
  },
  {
   "cell_type": "code",
   "execution_count": null,
   "id": "e5a849ba-638e-4196-a007-51d2e3db3163",
   "metadata": {},
   "outputs": [],
   "source": []
  }
 ],
 "metadata": {
  "kernelspec": {
   "display_name": "Python 3 (ipykernel)",
   "language": "python",
   "name": "python3"
  },
  "language_info": {
   "codemirror_mode": {
    "name": "ipython",
    "version": 3
   },
   "file_extension": ".py",
   "mimetype": "text/x-python",
   "name": "python",
   "nbconvert_exporter": "python",
   "pygments_lexer": "ipython3",
   "version": "3.12.0"
  }
 },
 "nbformat": 4,
 "nbformat_minor": 5
}
